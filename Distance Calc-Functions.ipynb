{
 "cells": [
  {
   "cell_type": "code",
   "execution_count": 23,
   "metadata": {},
   "outputs": [
    {
     "name": "stdout",
     "output_type": "stream",
     "text": [
      "['O' 'H1' 'H2']\n",
      "[[ 0.       -0.007156  0.965491]\n",
      " [-0.        0.001486 -0.003471]\n",
      " [ 0.        0.931026  1.207929]]\n"
     ]
    }
   ],
   "source": [
    "import os \n",
    "import numpy\n",
    "xyz_location = os.path.join('data','water.xyz')\n",
    "xyz_file = numpy.genfromtxt(fname=xyz_location, skip_header=2, dtype='unicode')\n",
    "symbols=xyz_file[:,0]\n",
    "coordinates=xyz_file[:,1:]\n",
    "coordinates = coordinates.astype(numpy.float)\n",
    "print(symbols)\n",
    "print(coordinates)"
   ]
  },
  {
   "cell_type": "code",
   "execution_count": 28,
   "metadata": {},
   "outputs": [],
   "source": [
    "def calculate_distance(atom1,atom2):\n",
    "    x_distance = atomA[0]-atomB[0]\n",
    "    y_distance = atomA[1]-atomB[1]\n",
    "    z_distance = atomA[2]-atomB[2]\n",
    "    distance = numpy.sqrt(x_distance**2 + y_distance**2 + z_distance**2)\n",
    "    return distance"
   ]
  },
  {
   "cell_type": "code",
   "execution_count": 53,
   "metadata": {},
   "outputs": [],
   "source": [
    "def bond_check(bond_distance,minimum_value=0,maximum_value=1.5): #Equals set the defaults, anything without equals user must spec\n",
    "    if bond_distance>minimum_value and bond_distance<maximum_value:\n",
    "        return True\n",
    "    else:\n",
    "        return False"
   ]
  },
  {
   "cell_type": "code",
   "execution_count": 54,
   "metadata": {},
   "outputs": [
    {
     "name": "stdout",
     "output_type": "stream",
     "text": [
      "H1 to O: 0.969\n",
      "H2 to O: 0.969\n"
     ]
    }
   ],
   "source": [
    "for numA, atomA in enumerate(coordinates):\n",
    "    for numB, atomB in enumerate(coordinates):\n",
    "        if numB<numA:\n",
    "            distance_AB = calculate_distance(atomA, atomB)\n",
    "            if bond_check(distance_AB,0,1.5):\n",
    "                print(F'{symbols[numA]} to {symbols[numB]}: {distance_AB:.3f}')"
   ]
  },
  {
   "cell_type": "code",
   "execution_count": 21,
   "metadata": {},
   "outputs": [
    {
     "name": "stdout",
     "output_type": "stream",
     "text": [
      "C:\\Users\\baj0040\\Desktop\\Setca\n"
     ]
    }
   ],
   "source": [
    "cd .."
   ]
  },
  {
   "cell_type": "code",
   "execution_count": 26,
   "metadata": {},
   "outputs": [],
   "source": [
    "def function_name(paramaters): #paramaters are the variables that are given and modified by code, then calc value to return\n",
    "    #lines of code\n",
    "    #lines of code\n",
    "    return value_to_return"
   ]
  },
  {
   "cell_type": "code",
   "execution_count": null,
   "metadata": {},
   "outputs": [],
   "source": []
  }
 ],
 "metadata": {
  "kernelspec": {
   "display_name": "Python 3",
   "language": "python",
   "name": "python3"
  },
  "language_info": {
   "codemirror_mode": {
    "name": "ipython",
    "version": 3
   },
   "file_extension": ".py",
   "mimetype": "text/x-python",
   "name": "python",
   "nbconvert_exporter": "python",
   "pygments_lexer": "ipython3",
   "version": "3.7.3"
  }
 },
 "nbformat": 4,
 "nbformat_minor": 2
}
